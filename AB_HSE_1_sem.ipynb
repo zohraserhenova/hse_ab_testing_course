{
 "cells": [
  {
   "cell_type": "code",
   "execution_count": 1,
   "id": "ddb89229",
   "metadata": {
    "ExecuteTime": {
     "end_time": "2023-03-09T13:27:34.043667Z",
     "start_time": "2023-03-09T13:27:32.391320Z"
    }
   },
   "outputs": [],
   "source": [
    "import numpy as np\n",
    "import scipy\n",
    "import matplotlib.pyplot as plt\n",
    "import scipy.stats as stats\n",
    "import statsmodels\n",
    "import statsmodels.sandbox.stats.multicomp\n",
    "import pandas as pd\n",
    "from statsmodels.stats.weightstats import ztest\n",
    "\n",
    "import matplotlib.pyplot as plt\n",
    "import seaborn as sns\n"
   ]
  },
  {
   "cell_type": "markdown",
   "id": "0d3a2365",
   "metadata": {},
   "source": [
    "1. Статкритерии (t-test, z-test) - примеры на выборках разного размера/разных средних/разных дисперсий/разных распределений\n",
    "Mann-Whitney (пример на малой выборке, на очень разных формах распределения)\n",
    "2. p-value распределение, проверка мощности и корректности\n",
    "3. Как проверить выборку на нормальность: qq-plot, критерий Шапиро-Уилка\n",
    "4. Критерий Колмогорова-Смирнова на соответствие выборки известному распределению"
   ]
  },
  {
   "cell_type": "markdown",
   "id": "68b86d22",
   "metadata": {},
   "source": [
    "# Критерии: t-test, z-test, Mann-Whithey"
   ]
  },
  {
   "cell_type": "code",
   "execution_count": null,
   "id": "aadee4d7",
   "metadata": {},
   "outputs": [],
   "source": [
    "# Нормальное распределение"
   ]
  },
  {
   "cell_type": "code",
   "execution_count": 2,
   "id": "298db001",
   "metadata": {
    "ExecuteTime": {
     "end_time": "2023-02-16T12:56:08.492244Z",
     "start_time": "2023-02-16T12:56:08.482596Z"
    }
   },
   "outputs": [],
   "source": [
    "a_norm = np.random.normal(0, 1, 100)\n",
    "b_norm = np.random.normal(0, 1, 100)"
   ]
  },
  {
   "cell_type": "code",
   "execution_count": 3,
   "id": "ed0dc9bb",
   "metadata": {
    "ExecuteTime": {
     "end_time": "2023-02-16T13:10:58.929733Z",
     "start_time": "2023-02-16T13:10:58.671454Z"
    }
   },
   "outputs": [
    {
     "data": {
      "text/plain": [
       "(array([2., 0., 6., 2., 1., 3., 4., 0., 1., 4., 9., 6., 8., 7., 2., 1., 5.,\n",
       "        5., 5., 5., 6., 3., 0., 4., 3., 0., 2., 3., 1., 0., 1., 1.]),\n",
       " array([-2.11167291, -1.97163136, -1.8315898 , -1.69154824, -1.55150669,\n",
       "        -1.41146513, -1.27142357, -1.13138202, -0.99134046, -0.8512989 ,\n",
       "        -0.71125735, -0.57121579, -0.43117424, -0.29113268, -0.15109112,\n",
       "        -0.01104957,  0.12899199,  0.26903355,  0.4090751 ,  0.54911666,\n",
       "         0.68915822,  0.82919977,  0.96924133,  1.10928288,  1.24932444,\n",
       "         1.389366  ,  1.52940755,  1.66944911,  1.80949067,  1.94953222,\n",
       "         2.08957378,  2.22961533,  2.36965689]),\n",
       " <BarContainer object of 32 artists>)"
      ]
     },
     "execution_count": 3,
     "metadata": {},
     "output_type": "execute_result"
    },
    {
     "data": {
      "image/png": "[encoded data removed]",
      "text/plain": [
       "<Figure size 700x700 with 1 Axes>"
      ]
     },
     "metadata": {},
     "output_type": "display_data"
    }
   ],
   "source": [
    "plt.figure(figsize=(7,7))\n",
    "plt.hist(a_norm, bins = 32, color='green',  linewidth=2)\n",
    "plt.hist(b_norm, bins = 32, color='red',  linewidth=2)"
   ]
  },
  {
   "cell_type": "code",
   "execution_count": 4,
   "id": "a90adf4e",
   "metadata": {
    "ExecuteTime": {
     "end_time": "2023-02-16T12:56:28.956730Z",
     "start_time": "2023-02-16T12:56:28.953317Z"
    }
   },
   "outputs": [
    {
     "name": "stdout",
     "output_type": "stream",
     "text": [
      "0.00035243832016509214 -0.06697136919280391\n"
     ]
    }
   ],
   "source": [
    "print(a_norm.mean(), b_norm.mean())"
   ]
  },
  {
   "cell_type": "code",
   "execution_count": 5,
   "id": "ceb4016d",
   "metadata": {
    "ExecuteTime": {
     "end_time": "2023-02-16T13:01:12.241774Z",
     "start_time": "2023-02-16T13:01:12.238329Z"
    }
   },
   "outputs": [
    {
     "name": "stdout",
     "output_type": "stream",
     "text": [
      "0.9839878795108093 1.0167229839296996\n"
     ]
    }
   ],
   "source": [
    "print(a_norm.std(), b_norm.std())"
   ]
  },
  {
   "cell_type": "markdown",
   "id": "f4fe7d8b",
   "metadata": {},
   "source": [
    "Сравним результаты, полученные на разных статкритериях"
   ]
  },
  {
   "cell_type": "code",
   "execution_count": 6,
   "id": "bc7c4b29",
   "metadata": {
    "ExecuteTime": {
     "end_time": "2023-02-16T13:05:55.823200Z",
     "start_time": "2023-02-16T13:05:55.817740Z"
    }
   },
   "outputs": [
    {
     "name": "stdout",
     "output_type": "stream",
     "text": [
      "Ttest_indResult(statistic=0.47343330958748536, pvalue=0.6364256254044636) \n",
      "\n",
      "(0.47343330958748536, 0.6359040701384484) \n",
      "\n",
      "MannwhitneyuResult(statistic=5218.0, pvalue=0.5951159299415455)\n"
     ]
    }
   ],
   "source": [
    "print(stats.ttest_ind(a_norm, b_norm),'\\n')\n",
    "print(ztest(a_norm, b_norm),'\\n')\n",
    "print(stats.mannwhitneyu(a_norm, b_norm))"
   ]
  },
  {
   "cell_type": "markdown",
   "id": "ec87a5f7",
   "metadata": {},
   "source": [
    "Видим, что для выборки из нормального распределения t-test и z-test дали практически идентичные результаты"
   ]
  },
  {
   "cell_type": "markdown",
   "id": "a59daa1e",
   "metadata": {},
   "source": [
    "Попробуем поменять параметры распределения: размеры выборок, средние, дисперсии"
   ]
  },
  {
   "cell_type": "code",
   "execution_count": 7,
   "id": "342349f3",
   "metadata": {
    "ExecuteTime": {
     "end_time": "2023-02-16T13:20:04.771470Z",
     "start_time": "2023-02-16T13:20:04.767934Z"
    }
   },
   "outputs": [],
   "source": [
    "a_norm = np.random.normal(0, 1, 1000)\n",
    "b_norm = np.random.normal(0, 1, 1000)"
   ]
  },
  {
   "cell_type": "code",
   "execution_count": 8,
   "id": "7fb26880",
   "metadata": {
    "ExecuteTime": {
     "end_time": "2023-02-16T13:20:44.843815Z",
     "start_time": "2023-02-16T13:20:44.840197Z"
    }
   },
   "outputs": [
    {
     "name": "stdout",
     "output_type": "stream",
     "text": [
      "0.03704072491320973 -0.06392670261776334\n"
     ]
    }
   ],
   "source": [
    "print(a_norm.mean(), b_norm.mean())"
   ]
  },
  {
   "cell_type": "code",
   "execution_count": 9,
   "id": "c2ec123f",
   "metadata": {
    "ExecuteTime": {
     "end_time": "2023-02-16T13:20:11.997421Z",
     "start_time": "2023-02-16T13:20:11.990941Z"
    }
   },
   "outputs": [
    {
     "name": "stdout",
     "output_type": "stream",
     "text": [
      "Ttest_indResult(statistic=2.3084919955115657, pvalue=0.021073429389653876) \n",
      "\n",
      "(2.3084919955115657, 0.02097178753075623) \n",
      "\n",
      "MannwhitneyuResult(statistic=526928.0, pvalue=0.03704444264791982)\n"
     ]
    }
   ],
   "source": [
    "print(stats.ttest_ind(a_norm, b_norm),'\\n')\n",
    "print(ztest(a_norm, b_norm),'\\n')\n",
    "print(stats.mannwhitneyu(a_norm, b_norm))"
   ]
  },
  {
   "cell_type": "code",
   "execution_count": null,
   "id": "c0c1f61b",
   "metadata": {},
   "outputs": [],
   "source": []
  },
  {
   "cell_type": "code",
   "execution_count": 10,
   "id": "3b0c4800",
   "metadata": {
    "ExecuteTime": {
     "end_time": "2023-02-16T14:01:16.952924Z",
     "start_time": "2023-02-16T14:01:16.948296Z"
    }
   },
   "outputs": [],
   "source": [
    "def get_results_from_various_tests(a, b, alpha=0.05):\n",
    "    \n",
    "    ttest_pv = stats.ttest_ind(a, b)[1]\n",
    "    ztest_pv = ztest(a, b)[1]\n",
    "    mw_pv = stats.mannwhitneyu(a, b)[1]\n",
    "    \n",
    "    return {'ttest': [ttest_pv, ttest_pv < alpha], 'ztest': [ztest_pv, ztest_pv < alpha], 'MW': [mw_pv, mw_pv < alpha]}"
   ]
  },
  {
   "cell_type": "markdown",
   "id": "335f5253",
   "metadata": {},
   "source": [
    "Увеличим разницу в средних"
   ]
  },
  {
   "cell_type": "code",
   "execution_count": 11,
   "id": "d830966e",
   "metadata": {
    "ExecuteTime": {
     "end_time": "2023-02-16T13:21:40.930635Z",
     "start_time": "2023-02-16T13:21:40.927128Z"
    }
   },
   "outputs": [],
   "source": [
    "a_norm = np.random.normal(50, 10, 1000)\n",
    "b_norm = np.random.normal(30, 11, 1000)"
   ]
  },
  {
   "cell_type": "code",
   "execution_count": 12,
   "id": "208e4a5a",
   "metadata": {
    "ExecuteTime": {
     "end_time": "2023-02-16T13:21:47.474278Z",
     "start_time": "2023-02-16T13:21:47.470510Z"
    }
   },
   "outputs": [
    {
     "name": "stdout",
     "output_type": "stream",
     "text": [
      "50.487417955207114 29.832109745297245\n"
     ]
    }
   ],
   "source": [
    "print(a_norm.mean(), b_norm.mean())"
   ]
  },
  {
   "cell_type": "code",
   "execution_count": 13,
   "id": "437eda2d",
   "metadata": {
    "ExecuteTime": {
     "end_time": "2023-02-16T13:22:10.878914Z",
     "start_time": "2023-02-16T13:22:10.620686Z"
    }
   },
   "outputs": [
    {
     "data": {
      "text/plain": [
       "(array([ 1.,  1.,  1.,  1.,  1.,  2.,  1.,  8., 11., 16., 23., 32., 43.,\n",
       "        62., 66., 64., 82., 92., 83., 66., 88., 68., 55., 31., 39., 26.,\n",
       "        18.,  5.,  8.,  1.,  3.,  2.]),\n",
       " array([-12.37061962, -10.01776597,  -7.66491233,  -5.31205868,\n",
       "         -2.95920504,  -0.60635139,   1.74650225,   4.0993559 ,\n",
       "          6.45220954,   8.80506319,  11.15791683,  13.51077048,\n",
       "         15.86362412,  18.21647776,  20.56933141,  22.92218505,\n",
       "         25.2750387 ,  27.62789234,  29.98074599,  32.33359963,\n",
       "         34.68645328,  37.03930692,  39.39216057,  41.74501421,\n",
       "         44.09786785,  46.4507215 ,  48.80357514,  51.15642879,\n",
       "         53.50928243,  55.86213608,  58.21498972,  60.56784337,\n",
       "         62.92069701]),\n",
       " <BarContainer object of 32 artists>)"
      ]
     },
     "execution_count": 13,
     "metadata": {},
     "output_type": "execute_result"
    },
    {
     "data": {
      "image/png": "[encoded data removed]",
      "text/plain": [
       "<Figure size 700x700 with 1 Axes>"
      ]
     },
     "metadata": {},
     "output_type": "display_data"
    }
   ],
   "source": [
    "plt.figure(figsize=(7,7))\n",
    "plt.hist(a_norm, bins = 32, color='green',  linewidth=2)\n",
    "plt.hist(b_norm, bins = 32, color='red',  linewidth=2)"
   ]
  },
  {
   "cell_type": "code",
   "execution_count": 14,
   "id": "a143da0d",
   "metadata": {
    "ExecuteTime": {
     "end_time": "2023-02-16T13:33:28.870375Z",
     "start_time": "2023-02-16T13:33:28.863676Z"
    }
   },
   "outputs": [
    {
     "data": {
      "text/plain": [
       "{'ttest': [9.602897410767225e-293, True],\n",
       " 'ztest': [0.0, True],\n",
       " 'MW': [7.069671242763491e-228, True]}"
      ]
     },
     "execution_count": 14,
     "metadata": {},
     "output_type": "execute_result"
    }
   ],
   "source": [
    "get_results_from_various_tests(a_norm, b_norm, alpha=0.05)"
   ]
  },
  {
   "cell_type": "markdown",
   "id": "97c6a6a8",
   "metadata": {},
   "source": [
    "Увеличим дисперсию"
   ]
  },
  {
   "cell_type": "code",
   "execution_count": 15,
   "id": "4ef1095c",
   "metadata": {
    "ExecuteTime": {
     "end_time": "2023-02-16T13:47:49.302649Z",
     "start_time": "2023-02-16T13:47:49.298741Z"
    }
   },
   "outputs": [],
   "source": [
    "a_norm = np.random.normal(50, 350, 1000)\n",
    "b_norm = np.random.normal(30, 100, 1000)"
   ]
  },
  {
   "cell_type": "code",
   "execution_count": 16,
   "id": "cc9f3044",
   "metadata": {
    "ExecuteTime": {
     "end_time": "2023-02-16T13:47:50.386498Z",
     "start_time": "2023-02-16T13:47:49.994479Z"
    }
   },
   "outputs": [
    {
     "data": {
      "text/plain": [
       "(array([ 1.,  3.,  2.,  8.,  9.,  8., 14., 31., 33., 38., 54., 66., 56.,\n",
       "        79., 72., 83., 72., 56., 58., 63., 47., 41., 35., 17., 25.,  9.,\n",
       "         6.,  5.,  3.,  4.,  1.,  1.]),\n",
       " array([-253.14904099, -234.71143932, -216.27383765, -197.83623599,\n",
       "        -179.39863432, -160.96103265, -142.52343099, -124.08582932,\n",
       "        -105.64822765,  -87.21062598,  -68.77302432,  -50.33542265,\n",
       "         -31.89782098,  -13.46021932,    4.97738235,   23.41498402,\n",
       "          41.85258569,   60.29018735,   78.72778902,   97.16539069,\n",
       "         115.60299235,  134.04059402,  152.47819569,  170.91579736,\n",
       "         189.35339902,  207.79100069,  226.22860236,  244.66620402,\n",
       "         263.10380569,  281.54140736,  299.97900903,  318.41661069,\n",
       "         336.85421236]),\n",
       " <BarContainer object of 32 artists>)"
      ]
     },
     "execution_count": 16,
     "metadata": {},
     "output_type": "execute_result"
    },
    {
     "data": {
      "image/png": "[encoded data removed]",
      "text/plain": [
       "<Figure size 700x700 with 1 Axes>"
      ]
     },
     "metadata": {},
     "output_type": "display_data"
    }
   ],
   "source": [
    "plt.figure(figsize=(7,7))\n",
    "plt.hist(a_norm, bins = 32, color='green',  linewidth=2)\n",
    "plt.hist(b_norm, bins = 32, color='red',  linewidth=2)"
   ]
  },
  {
   "cell_type": "code",
   "execution_count": 17,
   "id": "b81301a9",
   "metadata": {
    "ExecuteTime": {
     "end_time": "2023-02-16T13:47:51.212897Z",
     "start_time": "2023-02-16T13:47:51.205791Z"
    }
   },
   "outputs": [
    {
     "data": {
      "text/plain": [
       "{'ttest': [0.0281450766172125, True],\n",
       " 'ztest': [0.02803060274353098, True],\n",
       " 'MW': [0.07034792910192074, False]}"
      ]
     },
     "execution_count": 17,
     "metadata": {},
     "output_type": "execute_result"
    }
   ],
   "source": [
    "get_results_from_various_tests(a_norm, b_norm, alpha=0.05)"
   ]
  },
  {
   "cell_type": "markdown",
   "id": "312e6155",
   "metadata": {},
   "source": [
    "Возьмем данные не из нормального распределения"
   ]
  },
  {
   "cell_type": "code",
   "execution_count": 18,
   "id": "ea6f0dd4",
   "metadata": {
    "ExecuteTime": {
     "end_time": "2023-02-16T14:01:31.552323Z",
     "start_time": "2023-02-16T14:01:31.548797Z"
    }
   },
   "outputs": [],
   "source": [
    "a_gamma = np.random.gamma(1, 2, size = 100)\n",
    "b_gamma = np.random.gamma(1, 2, size = 100)"
   ]
  },
  {
   "cell_type": "code",
   "execution_count": 19,
   "id": "3b22bfe5",
   "metadata": {
    "ExecuteTime": {
     "end_time": "2023-02-16T14:01:32.431682Z",
     "start_time": "2023-02-16T14:01:32.428087Z"
    }
   },
   "outputs": [
    {
     "name": "stdout",
     "output_type": "stream",
     "text": [
      "2.004434717121875 2.0440285961294267\n"
     ]
    }
   ],
   "source": [
    "print(a_gamma.mean(), b_gamma.mean())"
   ]
  },
  {
   "cell_type": "code",
   "execution_count": 20,
   "id": "32edb5a6",
   "metadata": {
    "ExecuteTime": {
     "end_time": "2023-02-16T14:01:33.939722Z",
     "start_time": "2023-02-16T14:01:33.687252Z"
    }
   },
   "outputs": [
    {
     "data": {
      "text/plain": [
       "(array([13., 10., 11., 13.,  6.,  6.,  2.,  3.,  7.,  4.,  2.,  4.,  7.,\n",
       "         3.,  0.,  3.,  1.,  0.,  1.,  0.,  2.,  0.,  0.,  0.,  0.,  0.,\n",
       "         1.,  0.,  0.,  0.,  0.,  1.]),\n",
       " array([0.02809427, 0.33349679, 0.6388993 , 0.94430181, 1.24970433,\n",
       "        1.55510684, 1.86050936, 2.16591187, 2.47131439, 2.7767169 ,\n",
       "        3.08211941, 3.38752193, 3.69292444, 3.99832696, 4.30372947,\n",
       "        4.60913199, 4.9145345 , 5.21993702, 5.52533953, 5.83074204,\n",
       "        6.13614456, 6.44154707, 6.74694959, 7.0523521 , 7.35775462,\n",
       "        7.66315713, 7.96855964, 8.27396216, 8.57936467, 8.88476719,\n",
       "        9.1901697 , 9.49557222, 9.80097473]),\n",
       " <BarContainer object of 32 artists>)"
      ]
     },
     "execution_count": 20,
     "metadata": {},
     "output_type": "execute_result"
    },
    {
     "data": {
      "image/png": "[encoded data removed]",
      "text/plain": [
       "<Figure size 700x700 with 1 Axes>"
      ]
     },
     "metadata": {},
     "output_type": "display_data"
    }
   ],
   "source": [
    "plt.figure(figsize=(7,7))\n",
    "plt.hist(a_gamma, bins = 32, color='violet',  linewidth=2)\n",
    "plt.hist(b_gamma, bins = 32, color='orange',  linewidth=2)"
   ]
  },
  {
   "cell_type": "code",
   "execution_count": 21,
   "id": "f265ea60",
   "metadata": {
    "ExecuteTime": {
     "end_time": "2023-02-16T14:01:36.339403Z",
     "start_time": "2023-02-16T14:01:36.333051Z"
    }
   },
   "outputs": [
    {
     "data": {
      "text/plain": [
       "{'ttest': [0.8926485667583978, False],\n",
       " 'ztest': [0.8925112980103372, False],\n",
       " 'MW': [0.34001108017799664, False]}"
      ]
     },
     "execution_count": 21,
     "metadata": {},
     "output_type": "execute_result"
    }
   ],
   "source": [
    "get_results_from_various_tests(a_gamma, b_gamma, alpha=0.05)"
   ]
  },
  {
   "cell_type": "markdown",
   "id": "03306ef7",
   "metadata": {},
   "source": [
    "Увеличим выборки и разницу в параметрах распределения"
   ]
  },
  {
   "cell_type": "code",
   "execution_count": 22,
   "id": "34a0bff6",
   "metadata": {
    "ExecuteTime": {
     "end_time": "2023-02-16T14:07:29.992015Z",
     "start_time": "2023-02-16T14:07:29.988241Z"
    }
   },
   "outputs": [],
   "source": [
    "a_gamma = np.random.gamma(1, 28, size = 1000)\n",
    "b_gamma = np.random.gamma(1, 24, size = 1000)"
   ]
  },
  {
   "cell_type": "code",
   "execution_count": 23,
   "id": "646f0d22",
   "metadata": {
    "ExecuteTime": {
     "end_time": "2023-02-16T14:07:30.869942Z",
     "start_time": "2023-02-16T14:07:30.866511Z"
    }
   },
   "outputs": [
    {
     "name": "stdout",
     "output_type": "stream",
     "text": [
      "27.072584262893415 23.999249834920832\n"
     ]
    }
   ],
   "source": [
    "print(a_gamma.mean(), b_gamma.mean())"
   ]
  },
  {
   "cell_type": "code",
   "execution_count": 24,
   "id": "1496e819",
   "metadata": {
    "ExecuteTime": {
     "end_time": "2023-02-16T14:07:34.502610Z",
     "start_time": "2023-02-16T14:07:34.241485Z"
    }
   },
   "outputs": [
    {
     "data": {
      "text/plain": [
       "(array([167., 155., 103.,  91., 104.,  60.,  61.,  62.,  35.,  28.,  30.,\n",
       "         24.,  21.,   7.,   7.,   8.,   7.,   4.,   6.,   5.,   0.,   1.,\n",
       "          4.,   0.,   0.,   2.,   1.,   3.,   0.,   2.,   1.,   1.]),\n",
       " array([1.32144340e-02, 4.75013015e+00, 9.48704586e+00, 1.42239616e+01,\n",
       "        1.89608773e+01, 2.36977930e+01, 2.84347087e+01, 3.31716244e+01,\n",
       "        3.79085401e+01, 4.26454559e+01, 4.73823716e+01, 5.21192873e+01,\n",
       "        5.68562030e+01, 6.15931187e+01, 6.63300344e+01, 7.10669501e+01,\n",
       "        7.58038658e+01, 8.05407816e+01, 8.52776973e+01, 9.00146130e+01,\n",
       "        9.47515287e+01, 9.94884444e+01, 1.04225360e+02, 1.08962276e+02,\n",
       "        1.13699192e+02, 1.18436107e+02, 1.23173023e+02, 1.27909939e+02,\n",
       "        1.32646854e+02, 1.37383770e+02, 1.42120686e+02, 1.46857602e+02,\n",
       "        1.51594517e+02]),\n",
       " <BarContainer object of 32 artists>)"
      ]
     },
     "execution_count": 24,
     "metadata": {},
     "output_type": "execute_result"
    },
    {
     "data": {
      "image/png": "[encoded data removed]",
      "text/plain": [
       "<Figure size 700x700 with 1 Axes>"
      ]
     },
     "metadata": {},
     "output_type": "display_data"
    }
   ],
   "source": [
    "plt.figure(figsize=(7,7))\n",
    "plt.hist(a_gamma, bins = 32, color='violet',  linewidth=2)\n",
    "plt.hist(b_gamma, bins = 32, color='orange',  linewidth=2)"
   ]
  },
  {
   "cell_type": "code",
   "execution_count": 25,
   "id": "dea8a57a",
   "metadata": {
    "ExecuteTime": {
     "end_time": "2023-02-16T14:07:39.773287Z",
     "start_time": "2023-02-16T14:07:39.765825Z"
    }
   },
   "outputs": [
    {
     "data": {
      "text/plain": [
       "{'ttest': [0.004657179933190111, True],\n",
       " 'ztest': [0.004610914506904404, True],\n",
       " 'MW': [0.027705286546518094, True]}"
      ]
     },
     "execution_count": 25,
     "metadata": {},
     "output_type": "execute_result"
    }
   ],
   "source": [
    "get_results_from_various_tests(a_gamma, b_gamma, alpha=0.05)"
   ]
  },
  {
   "cell_type": "markdown",
   "id": "fffa030e",
   "metadata": {},
   "source": [
    "# Проверим мощность и корректность"
   ]
  },
  {
   "cell_type": "markdown",
   "id": "866f091f",
   "metadata": {},
   "source": [
    "Начнем с корректности"
   ]
  },
  {
   "cell_type": "markdown",
   "id": "7a1e8578",
   "metadata": {},
   "source": [
    "# Корректность"
   ]
  },
  {
   "cell_type": "code",
   "execution_count": 26,
   "id": "1daf5148",
   "metadata": {
    "ExecuteTime": {
     "end_time": "2023-03-10T12:14:10.689701Z",
     "start_time": "2023-03-10T12:14:10.683607Z"
    }
   },
   "outputs": [],
   "source": [
    "def check_correctness(test, dist=np.random.normal, params=[5, 4], alpha=0.05):\n",
    "    \n",
    "    p_vals = []\n",
    "    # iters = 1000\n",
    "    \n",
    "    for _ in range(10000):\n",
    "        a = dist(25, params[0], size=1000)\n",
    "        b = dist(25, params[1], size=1000)\n",
    "        p = test(a, b)[1]\n",
    "        p_vals.append(p)\n",
    "        \n",
    "    p_vals = np.array(p_vals)\n",
    "    \n",
    "    print(plt.hist(p_vals))\n",
    "    \n",
    "    return p_vals[p_vals < 0.05].shape[0] / p_vals.shape[0]"
   ]
  },
  {
   "cell_type": "code",
   "execution_count": 27,
   "id": "d1ca0e1e",
   "metadata": {
    "ExecuteTime": {
     "end_time": "2023-03-09T13:42:44.167385Z",
     "start_time": "2023-03-09T13:42:39.518483Z"
    }
   },
   "outputs": [
    {
     "name": "stdout",
     "output_type": "stream",
     "text": [
      "(array([1007., 1050.,  995.,  966., 1029., 1032.,  985.,  977.,  991.,\n",
      "        968.]), array([6.55940803e-05, 1.00052096e-01, 2.00038597e-01, 3.00025099e-01,\n",
      "       4.00011600e-01, 4.99998102e-01, 5.99984603e-01, 6.99971105e-01,\n",
      "       7.99957607e-01, 8.99944108e-01, 9.99930610e-01]), <BarContainer object of 10 artists>)\n"
     ]
    },
    {
     "data": {
      "text/plain": [
       "0.0488"
      ]
     },
     "execution_count": 27,
     "metadata": {},
     "output_type": "execute_result"
    },
    {
     "data": {
      "image/png": "[encoded data removed]",
      "text/plain": [
       "<Figure size 640x480 with 1 Axes>"
      ]
     },
     "metadata": {},
     "output_type": "display_data"
    }
   ],
   "source": [
    "check_correctness(stats.ttest_ind)"
   ]
  },
  {
   "cell_type": "markdown",
   "id": "24bd38ae",
   "metadata": {},
   "source": [
    "В целом, работает корректно"
   ]
  },
  {
   "cell_type": "code",
   "execution_count": 28,
   "id": "54724ea6",
   "metadata": {
    "ExecuteTime": {
     "end_time": "2023-03-09T13:43:01.588591Z",
     "start_time": "2023-03-09T13:42:52.151156Z"
    }
   },
   "outputs": [
    {
     "name": "stdout",
     "output_type": "stream",
     "text": [
      "(array([ 993., 1034., 1081., 1008.,  959., 1033., 1023.,  928.,  998.,\n",
      "        943.]), array([1.52652040e-04, 1.00137387e-01, 2.00122122e-01, 3.00106856e-01,\n",
      "       4.00091591e-01, 5.00076326e-01, 6.00061061e-01, 7.00045796e-01,\n",
      "       8.00030530e-01, 9.00015265e-01, 1.00000000e+00]), <BarContainer object of 10 artists>)\n"
     ]
    },
    {
     "data": {
      "text/plain": [
       "0.0517"
      ]
     },
     "execution_count": 28,
     "metadata": {},
     "output_type": "execute_result"
    },
    {
     "data": {
      "image/png": "[encoded data removed]",
      "text/plain": [
       "<Figure size 640x480 with 1 Axes>"
      ]
     },
     "metadata": {},
     "output_type": "display_data"
    }
   ],
   "source": [
    "check_correctness(stats.mannwhitneyu)"
   ]
  },
  {
   "cell_type": "markdown",
   "id": "c440d563",
   "metadata": {},
   "source": [
    "А тут ошибка уже заметно выше "
   ]
  },
  {
   "cell_type": "markdown",
   "id": "407a306e",
   "metadata": {},
   "source": [
    "Поменяем дисперсии:"
   ]
  },
  {
   "cell_type": "code",
   "execution_count": 29,
   "id": "26667039",
   "metadata": {
    "ExecuteTime": {
     "end_time": "2023-03-09T13:48:01.955234Z",
     "start_time": "2023-03-09T13:47:57.279719Z"
    }
   },
   "outputs": [
    {
     "name": "stdout",
     "output_type": "stream",
     "text": [
      "(array([1013.,  994.,  970., 1009.,  966., 1003.,  969., 1050., 1003.,\n",
      "       1023.]), array([2.22120687e-04, 1.00192431e-01, 2.00162741e-01, 3.00133051e-01,\n",
      "       4.00103361e-01, 5.00073671e-01, 6.00043981e-01, 7.00014291e-01,\n",
      "       7.99984601e-01, 8.99954911e-01, 9.99925221e-01]), <BarContainer object of 10 artists>)\n"
     ]
    },
    {
     "data": {
      "text/plain": [
       "0.0491"
      ]
     },
     "execution_count": 29,
     "metadata": {},
     "output_type": "execute_result"
    },
    {
     "data": {
      "image/png": "[encoded data removed]",
      "text/plain": [
       "<Figure size 640x480 with 1 Axes>"
      ]
     },
     "metadata": {},
     "output_type": "display_data"
    }
   ],
   "source": [
    "check_correctness(stats.ttest_ind, params=[80, 2])"
   ]
  },
  {
   "cell_type": "code",
   "execution_count": 30,
   "id": "0224da41",
   "metadata": {
    "ExecuteTime": {
     "end_time": "2023-03-09T13:52:15.959374Z",
     "start_time": "2023-03-09T13:52:11.910318Z"
    }
   },
   "outputs": [
    {
     "name": "stdout",
     "output_type": "stream",
     "text": [
      "0.0\n"
     ]
    },
    {
     "data": {
      "image/png": "[encoded data removed]",
      "text/plain": [
       "<Figure size 640x480 with 1 Axes>"
      ]
     },
     "metadata": {},
     "output_type": "display_data"
    }
   ],
   "source": [
    "# А если было бы так:\n",
    "\n",
    "# размер выборок сильно различается\n",
    "\n",
    "p_vals = []\n",
    "iters = 1000\n",
    "    \n",
    "for _ in range(10000):\n",
    "    a = np.random.normal(25, 80, size=1000)\n",
    "    b = np.random.normal(25, 2, size=100)\n",
    "    p = stats.ttest_ind(a, b).pvalue\n",
    "    p_vals.append(p)\n",
    "        \n",
    "p_vals = np.array(p_vals)\n",
    "    \n",
    "plt.hist(p_vals, color='red')\n",
    "    \n",
    "print(p_vals[p_vals < 0.05].shape[0] / p_vals.shape[0])"
   ]
  },
  {
   "cell_type": "code",
   "execution_count": 31,
   "id": "e1a125ab",
   "metadata": {
    "ExecuteTime": {
     "end_time": "2023-03-09T13:52:34.830289Z",
     "start_time": "2023-03-09T13:52:30.392012Z"
    }
   },
   "outputs": [
    {
     "name": "stdout",
     "output_type": "stream",
     "text": [
      "0.0489\n"
     ]
    },
    {
     "data": {
      "image/png": "[encoded data removed]",
      "text/plain": [
       "<Figure size 640x480 with 1 Axes>"
      ]
     },
     "metadata": {},
     "output_type": "display_data"
    }
   ],
   "source": [
    "# поэтому пользуемся модификацией теста\n",
    "\n",
    "p_vals = []\n",
    "iters = 1000\n",
    "    \n",
    "for _ in range(10000):\n",
    "    a = np.random.normal(25, 80, size=1000)\n",
    "    b = np.random.normal(25, 2, size=100)\n",
    "    p = stats.ttest_ind(a, b, equal_var=False).pvalue\n",
    "    p_vals.append(p)\n",
    "        \n",
    "p_vals = np.array(p_vals)\n",
    "    \n",
    "plt.hist(p_vals, color='green')\n",
    "    \n",
    "print(p_vals[p_vals < 0.05].shape[0] / p_vals.shape[0])"
   ]
  },
  {
   "cell_type": "code",
   "execution_count": null,
   "id": "e714b765",
   "metadata": {},
   "outputs": [],
   "source": []
  },
  {
   "cell_type": "markdown",
   "id": "ca9dbb02",
   "metadata": {},
   "source": [
    "Проверим на другом распределении:"
   ]
  },
  {
   "cell_type": "code",
   "execution_count": 32,
   "id": "cd9e73a1",
   "metadata": {
    "ExecuteTime": {
     "end_time": "2023-03-09T15:11:11.836125Z",
     "start_time": "2023-03-09T15:11:06.617203Z"
    }
   },
   "outputs": [
    {
     "name": "stdout",
     "output_type": "stream",
     "text": [
      "(array([ 869., 1130., 1249., 1146., 1023.,  983.,  932.,  914.,  877.,\n",
      "        877.]), array([4.33923528e-04, 1.00388631e-01, 2.00343339e-01, 3.00298046e-01,\n",
      "       4.00252754e-01, 5.00207462e-01, 6.00162169e-01, 7.00116877e-01,\n",
      "       8.00071585e-01, 9.00026292e-01, 9.99981000e-01]), <BarContainer object of 10 artists>)\n"
     ]
    },
    {
     "data": {
      "text/plain": [
       "0.0385"
      ]
     },
     "execution_count": 32,
     "metadata": {},
     "output_type": "execute_result"
    },
    {
     "data": {
      "image/png": "[encoded data removed]",
      "text/plain": [
       "<Figure size 640x480 with 1 Axes>"
      ]
     },
     "metadata": {},
     "output_type": "display_data"
    }
   ],
   "source": [
    "check_correctness(stats.ttest_ind, dist=np.random.lognormal, params=[2, 2])"
   ]
  },
  {
   "cell_type": "markdown",
   "id": "d7531af5",
   "metadata": {},
   "source": [
    "Ошибка в установленных рамках, но распределение p-value далеко от равномерного"
   ]
  },
  {
   "cell_type": "markdown",
   "id": "563de327",
   "metadata": {},
   "source": [
    "Попробуем другой статкритерий:"
   ]
  },
  {
   "cell_type": "code",
   "execution_count": 33,
   "id": "6f6fc9c1",
   "metadata": {
    "ExecuteTime": {
     "end_time": "2023-03-10T12:14:23.930066Z",
     "start_time": "2023-03-10T12:14:19.666853Z"
    }
   },
   "outputs": [
    {
     "name": "stdout",
     "output_type": "stream",
     "text": [
      "(array([ 863., 1206., 1195., 1119., 1124.,  991.,  897.,  878.,  863.,\n",
      "        864.]), array([3.59217750e-04, 1.00299460e-01, 2.00239701e-01, 3.00179943e-01,\n",
      "       4.00120185e-01, 5.00060427e-01, 6.00000669e-01, 6.99940911e-01,\n",
      "       7.99881152e-01, 8.99821394e-01, 9.99761636e-01]), <BarContainer object of 10 artists>)\n"
     ]
    },
    {
     "data": {
      "text/plain": [
       "0.0363"
      ]
     },
     "execution_count": 33,
     "metadata": {},
     "output_type": "execute_result"
    },
    {
     "data": {
      "image/png": "[encoded data removed]",
      "text/plain": [
       "<Figure size 640x480 with 1 Axes>"
      ]
     },
     "metadata": {},
     "output_type": "display_data"
    }
   ],
   "source": [
    "check_correctness(ztest, dist=np.random.lognormal, params=[2, 2])"
   ]
  },
  {
   "cell_type": "code",
   "execution_count": 34,
   "id": "35b4d37e",
   "metadata": {
    "ExecuteTime": {
     "end_time": "2023-03-10T12:15:39.884500Z",
     "start_time": "2023-03-10T12:15:30.025539Z"
    }
   },
   "outputs": [
    {
     "name": "stdout",
     "output_type": "stream",
     "text": [
      "(array([1045., 1028.,  955., 1031.,  979., 1005.,  996., 1032.,  937.,\n",
      "        992.]), array([3.09441030e-05, 1.00027850e-01, 2.00024755e-01, 3.00021661e-01,\n",
      "       4.00018566e-01, 5.00015472e-01, 6.00012378e-01, 7.00009283e-01,\n",
      "       8.00006189e-01, 9.00003094e-01, 1.00000000e+00]), <BarContainer object of 10 artists>)\n"
     ]
    },
    {
     "data": {
      "text/plain": [
       "0.0532"
      ]
     },
     "execution_count": 34,
     "metadata": {},
     "output_type": "execute_result"
    },
    {
     "data": {
      "image/png": "[encoded data removed]",
      "text/plain": [
       "<Figure size 640x480 with 1 Axes>"
      ]
     },
     "metadata": {},
     "output_type": "display_data"
    }
   ],
   "source": [
    "check_correctness(stats.mannwhitneyu, dist=np.random.lognormal, params=[2, 2])"
   ]
  },
  {
   "cell_type": "markdown",
   "id": "3bb92f24",
   "metadata": {},
   "source": [
    "Ошибка заметно выше, но распределение равномернее\n",
    "\n",
    "Почему ошибка выше?\n",
    "\n",
    "Каким будем пользоваться критерием в итоге?"
   ]
  },
  {
   "cell_type": "markdown",
   "id": "bb700196",
   "metadata": {},
   "source": [
    "Попробуем посмотреть на выборках разного размера:"
   ]
  },
  {
   "cell_type": "code",
   "execution_count": 35,
   "id": "f7a01523",
   "metadata": {
    "ExecuteTime": {
     "end_time": "2023-03-10T12:40:57.962623Z",
     "start_time": "2023-03-10T12:40:50.897636Z"
    }
   },
   "outputs": [
    {
     "name": "stdout",
     "output_type": "stream",
     "text": [
      "0.0475\n"
     ]
    },
    {
     "data": {
      "image/png": "[encoded data removed]",
      "text/plain": [
       "<Figure size 640x480 with 1 Axes>"
      ]
     },
     "metadata": {},
     "output_type": "display_data"
    }
   ],
   "source": [
    "p_vals = []\n",
    "# iters = 1000\n",
    "    \n",
    "for _ in range(10000):\n",
    "    a = np.random.lognormal(25, 2, size=1000)\n",
    "    b = np.random.lognormal(25, 2, size=100)\n",
    "    p = stats.mannwhitneyu(a, b)[1]\n",
    "    p_vals.append(p)\n",
    "        \n",
    "p_vals = np.array(p_vals)\n",
    "    \n",
    "plt.hist(p_vals, color='green')\n",
    "    \n",
    "print(p_vals[p_vals < 0.05].shape[0] / p_vals.shape[0])"
   ]
  },
  {
   "cell_type": "code",
   "execution_count": 36,
   "id": "a92312ac",
   "metadata": {
    "ExecuteTime": {
     "end_time": "2023-03-10T12:47:58.859414Z",
     "start_time": "2023-03-10T12:47:52.014823Z"
    }
   },
   "outputs": [
    {
     "name": "stdout",
     "output_type": "stream",
     "text": [
      "0.0473\n"
     ]
    },
    {
     "data": {
      "image/png": "[encoded data removed]",
      "text/plain": [
       "<Figure size 640x480 with 1 Axes>"
      ]
     },
     "metadata": {},
     "output_type": "display_data"
    }
   ],
   "source": [
    "p_vals = []\n",
    "iters = 1000\n",
    "    \n",
    "for _ in range(10000):\n",
    "    a = np.random.exponential(2, size = 1000)\n",
    "    b = np.random.exponential(2, size = 100)\n",
    "    p = stats.mannwhitneyu(a, b)[1]\n",
    "    p_vals.append(p)\n",
    "        \n",
    "p_vals = np.array(p_vals)\n",
    "    \n",
    "plt.hist(p_vals, color='orange')\n",
    "    \n",
    "print(p_vals[p_vals < 0.05].shape[0] / p_vals.shape[0])"
   ]
  },
  {
   "cell_type": "code",
   "execution_count": 39,
   "id": "d59162ff",
   "metadata": {
    "ExecuteTime": {
     "end_time": "2023-03-10T13:03:11.883235Z",
     "start_time": "2023-03-10T13:03:08.291464Z"
    }
   },
   "outputs": [
    {
     "name": "stdout",
     "output_type": "stream",
     "text": [
      "0.0471\n"
     ]
    },
    {
     "data": {
      "image/png": "[encoded data removed]",
      "text/plain": [
       "<Figure size 640x480 with 1 Axes>"
      ]
     },
     "metadata": {},
     "output_type": "display_data"
    }
   ],
   "source": [
    "p_vals = []\n",
    "iters = 1000\n",
    "    \n",
    "for _ in range(10000):\n",
    "    a = np.random.exponential(2, size = 18)\n",
    "    b = np.random.exponential(2, size = 18)\n",
    "    p = stats.mannwhitneyu(a, b)[1]\n",
    "    p_vals.append(p)\n",
    "        \n",
    "p_vals = np.array(p_vals)\n",
    "    \n",
    "plt.hist(p_vals, color='violet')\n",
    "    \n",
    "print(p_vals[p_vals < 0.05].shape[0] / p_vals.shape[0])"
   ]
  },
  {
   "cell_type": "markdown",
   "id": "80889a92",
   "metadata": {},
   "source": [
    "# Мощность"
   ]
  },
  {
   "cell_type": "markdown",
   "id": "0dba24da",
   "metadata": {},
   "source": [
    "Проверка мощности связана с вычислением ошибки 2-го рода. Также производится на симуляциях и ресемплинге"
   ]
  },
  {
   "cell_type": "code",
   "execution_count": 40,
   "id": "484a3c6c",
   "metadata": {
    "ExecuteTime": {
     "end_time": "2023-03-10T14:53:30.384396Z",
     "start_time": "2023-03-10T14:53:25.728550Z"
    }
   },
   "outputs": [
    {
     "name": "stdout",
     "output_type": "stream",
     "text": [
      "0.6084\n"
     ]
    },
    {
     "data": {
      "image/png": "[encoded data removed]",
      "text/plain": [
       "<Figure size 640x480 with 1 Axes>"
      ]
     },
     "metadata": {},
     "output_type": "display_data"
    }
   ],
   "source": [
    "p_vals = []\n",
    "# iters = 1000\n",
    "    \n",
    "for _ in range(10000):\n",
    "    a = np.random.normal(25, 10, size = 1000)\n",
    "    b = np.random.normal(26, 10, size = 1000)\n",
    "    p = stats.ttest_ind(a, b)[1]\n",
    "    p_vals.append(p)\n",
    "        \n",
    "p_vals = np.array(p_vals)\n",
    "  \n",
    "plt.hist(p_vals, color='orange')\n",
    "    \n",
    "print(p_vals[p_vals < 0.05].shape[0] / p_vals.shape[0])"
   ]
  },
  {
   "cell_type": "markdown",
   "id": "8d06766b",
   "metadata": {
    "collapsed": true
   },
   "source": [
    "Попробуем проверить мощность на группах меньшего размера, но с теми же параметрами:"
   ]
  },
  {
   "cell_type": "code",
   "execution_count": 41,
   "id": "4a37b821",
   "metadata": {
    "ExecuteTime": {
     "end_time": "2023-03-10T14:54:54.866029Z",
     "start_time": "2023-03-10T14:54:51.535287Z"
    }
   },
   "outputs": [
    {
     "name": "stdout",
     "output_type": "stream",
     "text": [
      "0.1077\n"
     ]
    },
    {
     "data": {
      "image/png": "[encoded data removed]",
      "text/plain": [
       "<Figure size 640x480 with 1 Axes>"
      ]
     },
     "metadata": {},
     "output_type": "display_data"
    }
   ],
   "source": [
    "p_vals = []\n",
    "iters = 1000\n",
    "    \n",
    "for _ in range(10000):\n",
    "    a = np.random.normal(25, 10, size = 100)\n",
    "    b = np.random.normal(26, 10, size = 100)\n",
    "    p = stats.ttest_ind(a, b)[1]\n",
    "    p_vals.append(p)\n",
    "        \n",
    "p_vals = np.array(p_vals)\n",
    "  \n",
    "plt.hist(p_vals, color='yellow')\n",
    "    \n",
    "print(p_vals[p_vals < 0.05].shape[0] / p_vals.shape[0])"
   ]
  },
  {
   "cell_type": "markdown",
   "id": "c059247c",
   "metadata": {},
   "source": [
    "А если разница средних будет больше?"
   ]
  },
  {
   "cell_type": "code",
   "execution_count": 42,
   "id": "fd53a660",
   "metadata": {
    "ExecuteTime": {
     "end_time": "2023-03-10T15:02:13.397711Z",
     "start_time": "2023-03-10T15:02:10.051608Z"
    }
   },
   "outputs": [
    {
     "name": "stdout",
     "output_type": "stream",
     "text": [
      "0.9423\n"
     ]
    },
    {
     "data": {
      "image/png": "[encoded data removed]",
      "text/plain": [
       "<Figure size 640x480 with 1 Axes>"
      ]
     },
     "metadata": {},
     "output_type": "display_data"
    }
   ],
   "source": [
    "p_vals = []\n",
    "iters = 1000\n",
    "    \n",
    "for _ in range(10000):\n",
    "    a = np.random.normal(25, 10, size = 100)\n",
    "    b = np.random.normal(30, 10, size = 100)\n",
    "    p = stats.ttest_ind(a, b)[1]\n",
    "    p_vals.append(p)\n",
    "        \n",
    "p_vals = np.array(p_vals)\n",
    "  \n",
    "plt.hist(p_vals, color='coral')\n",
    "    \n",
    "print(p_vals[p_vals < 0.05].shape[0] / p_vals.shape[0])"
   ]
  },
  {
   "cell_type": "markdown",
   "id": "8042921b",
   "metadata": {
    "collapsed": true
   },
   "source": [
    "А если изменим дисперсии?"
   ]
  },
  {
   "cell_type": "code",
   "execution_count": 43,
   "id": "a70866e7",
   "metadata": {
    "ExecuteTime": {
     "end_time": "2023-03-10T14:56:13.121774Z",
     "start_time": "2023-03-10T14:56:09.784614Z"
    }
   },
   "outputs": [
    {
     "name": "stdout",
     "output_type": "stream",
     "text": [
      "0.2199\n"
     ]
    },
    {
     "data": {
      "image/png": "[encoded data removed]",
      "text/plain": [
       "<Figure size 640x480 with 1 Axes>"
      ]
     },
     "metadata": {},
     "output_type": "display_data"
    }
   ],
   "source": [
    "p_vals = []\n",
    "iters = 1000\n",
    "    \n",
    "for _ in range(10000):\n",
    "    a = np.random.normal(25, 6, size = 100)\n",
    "    b = np.random.normal(26, 6, size = 100)\n",
    "    p = stats.ttest_ind(a, b)[1]\n",
    "    p_vals.append(p)\n",
    "        \n",
    "p_vals = np.array(p_vals)\n",
    "  \n",
    "plt.hist(p_vals, color='green')\n",
    "    \n",
    "print(p_vals[p_vals < 0.05].shape[0] / p_vals.shape[0])"
   ]
  },
  {
   "cell_type": "code",
   "execution_count": 44,
   "id": "638ad55b",
   "metadata": {
    "ExecuteTime": {
     "end_time": "2023-03-10T14:58:51.416082Z",
     "start_time": "2023-03-10T14:58:46.028080Z"
    }
   },
   "outputs": [
    {
     "name": "stdout",
     "output_type": "stream",
     "text": [
      "0.0969\n"
     ]
    },
    {
     "data": {
      "image/png": "[encoded data removed]",
      "text/plain": [
       "<Figure size 640x480 with 1 Axes>"
      ]
     },
     "metadata": {},
     "output_type": "display_data"
    }
   ],
   "source": [
    "p_vals = []\n",
    "iters = 1000\n",
    "    \n",
    "for _ in range(10000):\n",
    "    a = np.random.normal(25, 12, size = 1000)\n",
    "    b = np.random.normal(26, 46, size = 1000)\n",
    "    p = stats.ttest_ind(a, b, equal_var=False)[1]\n",
    "    p_vals.append(p)\n",
    "        \n",
    "p_vals = np.array(p_vals)\n",
    "  \n",
    "plt.hist(p_vals, color='blue')\n",
    "    \n",
    "print(p_vals[p_vals < 0.05].shape[0] / p_vals.shape[0])"
   ]
  },
  {
   "cell_type": "markdown",
   "id": "b972e90c",
   "metadata": {},
   "source": [
    "Увеличиваем дисперсии - падает мощность"
   ]
  },
  {
   "cell_type": "code",
   "execution_count": 45,
   "id": "26ac9f50",
   "metadata": {
    "ExecuteTime": {
     "end_time": "2023-03-10T15:00:57.726915Z",
     "start_time": "2023-03-10T15:00:52.798894Z"
    }
   },
   "outputs": [
    {
     "name": "stdout",
     "output_type": "stream",
     "text": [
      "0.2549\n"
     ]
    },
    {
     "data": {
      "image/png": "[encoded data removed]",
      "text/plain": [
       "<Figure size 640x480 with 1 Axes>"
      ]
     },
     "metadata": {},
     "output_type": "display_data"
    }
   ],
   "source": [
    "p_vals = []\n",
    "iters = 1000\n",
    "    \n",
    "for _ in range(10000):\n",
    "    a = np.random.normal(25, 6, size = 1000)\n",
    "    b = np.random.normal(26, 24, size = 1000)\n",
    "    p = stats.ttest_ind(a, b, equal_var=False)[1]\n",
    "    p_vals.append(p)\n",
    "        \n",
    "p_vals = np.array(p_vals)\n",
    "  \n",
    "plt.hist(p_vals, color='blue')\n",
    "    \n",
    "print(p_vals[p_vals < 0.05].shape[0] / p_vals.shape[0])"
   ]
  },
  {
   "cell_type": "markdown",
   "id": "956b2458",
   "metadata": {},
   "source": [
    "Уменьшили дисперсии (но оставили различные в группах) - выросла мощность"
   ]
  },
  {
   "cell_type": "markdown",
   "id": "9fc3b5ad",
   "metadata": {
    "collapsed": true
   },
   "source": [
    "Попробуем с другим статкритерием:"
   ]
  },
  {
   "cell_type": "code",
   "execution_count": 46,
   "id": "cc3ae99d",
   "metadata": {},
   "outputs": [
    {
     "name": "stdout",
     "output_type": "stream",
     "text": [
      "0.2681\n"
     ]
    },
    {
     "data": {
      "image/png": "[encoded data removed]",
      "text/plain": [
       "<Figure size 640x480 with 1 Axes>"
      ]
     },
     "metadata": {},
     "output_type": "display_data"
    }
   ],
   "source": [
    "p_vals = []\n",
    "iters = 1000\n",
    "    \n",
    "for _ in range(10000):\n",
    "    a = np.random.normal(25, 6, size = 1000)\n",
    "    b = np.random.normal(26, 24, size = 1000)\n",
    "    p = stats.mannwhitneyu(a, b)[1]\n",
    "    p_vals.append(p)\n",
    "        \n",
    "p_vals = np.array(p_vals)\n",
    "  \n",
    "plt.hist(p_vals, color='brown')\n",
    "    \n",
    "print(p_vals[p_vals < 0.05].shape[0] / p_vals.shape[0])"
   ]
  },
  {
   "cell_type": "markdown",
   "id": "697ab8d8",
   "metadata": {},
   "source": [
    "Сравним мощность разных критериев для НЕномального распределения"
   ]
  },
  {
   "cell_type": "code",
   "execution_count": 47,
   "id": "29c939f6",
   "metadata": {},
   "outputs": [
    {
     "name": "stdout",
     "output_type": "stream",
     "text": [
      "0.915\n"
     ]
    },
    {
     "data": {
      "image/png": "[encoded data removed]",
      "text/plain": [
       "<Figure size 640x480 with 1 Axes>"
      ]
     },
     "metadata": {},
     "output_type": "display_data"
    }
   ],
   "source": [
    "p_vals = []\n",
    "iters = 1000\n",
    "    \n",
    "for _ in range(10000):\n",
    "    a = np.random.lognormal(25, 6, size = 1000)\n",
    "    b = np.random.lognormal(26, 7, size = 1000)\n",
    "    p = stats.mannwhitneyu(a, b)[1]\n",
    "    p_vals.append(p)\n",
    "        \n",
    "p_vals = np.array(p_vals)\n",
    "  \n",
    "plt.hist(p_vals, color='magenta')\n",
    "    \n",
    "print(p_vals[p_vals < 0.05].shape[0] / p_vals.shape[0])"
   ]
  },
  {
   "cell_type": "code",
   "execution_count": 48,
   "id": "4eb031b6",
   "metadata": {},
   "outputs": [
    {
     "name": "stdout",
     "output_type": "stream",
     "text": [
      "0.0773\n"
     ]
    },
    {
     "data": {
      "image/png": "[encoded data removed]",
      "text/plain": [
       "<Figure size 640x480 with 1 Axes>"
      ]
     },
     "metadata": {},
     "output_type": "display_data"
    }
   ],
   "source": [
    "p_vals = []\n",
    "iters = 1000\n",
    "    \n",
    "for _ in range(10000):\n",
    "    a = np.random.lognormal(25, 6, size = 1000)\n",
    "    b = np.random.lognormal(26, 7, size = 1000)\n",
    "    p = stats.ttest_ind(a, b, equal_var=False)[1]\n",
    "    p_vals.append(p)\n",
    "        \n",
    "p_vals = np.array(p_vals)\n",
    "  \n",
    "plt.hist(p_vals, color='violet')\n",
    "    \n",
    "print(p_vals[p_vals < 0.05].shape[0] / p_vals.shape[0])"
   ]
  },
  {
   "cell_type": "code",
   "execution_count": null,
   "id": "0520923a",
   "metadata": {},
   "outputs": [],
   "source": []
  },
  {
   "cell_type": "code",
   "execution_count": null,
   "id": "03c07c04",
   "metadata": {},
   "outputs": [],
   "source": []
  },
  {
   "cell_type": "markdown",
   "id": "e034b7a4",
   "metadata": {},
   "source": [
    "# Проверка на нормальность"
   ]
  },
  {
   "cell_type": "markdown",
   "id": "cf82f0c6",
   "metadata": {
    "collapsed": true
   },
   "source": [
    "Можно просто построить гистограмму:"
   ]
  },
  {
   "cell_type": "code",
   "execution_count": 49,
   "id": "af67e124",
   "metadata": {
    "ExecuteTime": {
     "end_time": "2023-03-10T13:11:54.779357Z",
     "start_time": "2023-03-10T13:11:54.649028Z"
    }
   },
   "outputs": [
    {
     "data": {
      "text/plain": [
       "(array([  3.,   8.,  37.,  73., 131., 111.,  78.,  42.,  10.,   7.]),\n",
       " array([-8.52622768,  0.9796145 , 10.48545668, 19.99129886, 29.49714103,\n",
       "        39.00298321, 48.50882539, 58.01466756, 67.52050974, 77.02635192,\n",
       "        86.5321941 ]),\n",
       " <BarContainer object of 10 artists>)"
      ]
     },
     "execution_count": 49,
     "metadata": {},
     "output_type": "execute_result"
    },
    {
     "data": {
      "image/png": "[encoded data removed]",
      "text/plain": [
       "<Figure size 640x480 with 1 Axes>"
      ]
     },
     "metadata": {},
     "output_type": "display_data"
    }
   ],
   "source": [
    "data = np.random.normal(40, 15, size=500)\n",
    "plt.hist(data, color='pink')"
   ]
  },
  {
   "cell_type": "markdown",
   "id": "c07157b2",
   "metadata": {},
   "source": [
    "А можно использовать более точные методы:"
   ]
  },
  {
   "cell_type": "code",
   "execution_count": 50,
   "id": "b51ab10e",
   "metadata": {
    "ExecuteTime": {
     "end_time": "2023-03-10T13:12:04.518695Z",
     "start_time": "2023-03-10T13:12:04.389955Z"
    }
   },
   "outputs": [
    {
     "data": {
      "image/png": "[encoded data removed]",
      "text/plain": [
       "<Figure size 640x480 with 1 Axes>"
      ]
     },
     "metadata": {},
     "output_type": "display_data"
    }
   ],
   "source": [
    "data = np.random.normal(40, 15, size=500)\n",
    "fig = plt.figure()\n",
    "ax = fig.add_subplot(111)\n",
    "x = data\n",
    "res = scipy.stats.probplot(x, dist='norm', sparams=(2.5,), plot=ax)\n",
    "#ax.set_title(\"Q-Q plot\")"
   ]
  },
  {
   "cell_type": "code",
   "execution_count": 51,
   "id": "0be82299",
   "metadata": {
    "ExecuteTime": {
     "end_time": "2023-03-10T13:14:27.894619Z",
     "start_time": "2023-03-10T13:14:27.890053Z"
    }
   },
   "outputs": [
    {
     "data": {
      "text/plain": [
       "ShapiroResult(statistic=0.9954293966293335, pvalue=0.1505540907382965)"
      ]
     },
     "execution_count": 51,
     "metadata": {},
     "output_type": "execute_result"
    }
   ],
   "source": [
    "# H_0 - распределение нормально\n",
    "\n",
    "stats.shapiro(data)"
   ]
  },
  {
   "cell_type": "markdown",
   "id": "3c8f8e3c",
   "metadata": {},
   "source": [
    "Есть и другие тесты на проверку нормальности:\n",
    "https://docs.scipy.org/doc/scipy/reference/generated/scipy.stats.normaltest.html "
   ]
  },
  {
   "cell_type": "code",
   "execution_count": 52,
   "id": "3d4c30b2",
   "metadata": {
    "ExecuteTime": {
     "end_time": "2023-03-10T13:17:41.774732Z",
     "start_time": "2023-03-10T13:17:41.768810Z"
    }
   },
   "outputs": [
    {
     "data": {
      "text/plain": [
       "NormaltestResult(statistic=4.34863439215929, pvalue=0.11368575225276763)"
      ]
     },
     "execution_count": 52,
     "metadata": {},
     "output_type": "execute_result"
    }
   ],
   "source": [
    "stats.normaltest(data)"
   ]
  },
  {
   "cell_type": "markdown",
   "id": "9d0429d7",
   "metadata": {},
   "source": [
    "Попробуем то же самое для данных не из нормального распределения:"
   ]
  },
  {
   "cell_type": "code",
   "execution_count": 53,
   "id": "a41ad803",
   "metadata": {
    "ExecuteTime": {
     "end_time": "2023-03-10T13:20:35.153146Z",
     "start_time": "2023-03-10T13:20:35.149768Z"
    }
   },
   "outputs": [],
   "source": [
    "data_bin = np.random.binomial(1, 0.1, size =500)"
   ]
  },
  {
   "cell_type": "code",
   "execution_count": 54,
   "id": "d196e961",
   "metadata": {
    "ExecuteTime": {
     "end_time": "2023-03-10T13:21:55.676203Z",
     "start_time": "2023-03-10T13:21:55.670906Z"
    }
   },
   "outputs": [
    {
     "name": "stdout",
     "output_type": "stream",
     "text": [
      "NormaltestResult(statistic=322.55319829280495, pvalue=9.087887256752261e-71)\n",
      "ShapiroResult(statistic=0.3045979142189026, pvalue=1.3871971978783164e-39)\n"
     ]
    }
   ],
   "source": [
    "print(stats.normaltest(data_bin))\n",
    "print(stats.shapiro(data_bin))"
   ]
  },
  {
   "cell_type": "code",
   "execution_count": 55,
   "id": "e057a20f",
   "metadata": {
    "ExecuteTime": {
     "end_time": "2023-03-10T13:22:30.240093Z",
     "start_time": "2023-03-10T13:22:30.099803Z"
    }
   },
   "outputs": [
    {
     "data": {
      "image/png": "[encoded data removed]",
      "text/plain": [
       "<Figure size 640x480 with 1 Axes>"
      ]
     },
     "metadata": {},
     "output_type": "display_data"
    }
   ],
   "source": [
    "fig = plt.figure()\n",
    "ax = fig.add_subplot(111)\n",
    "x = data_bin\n",
    "res = scipy.stats.probplot(x, dist='norm', sparams=(2.5,), plot=ax)"
   ]
  },
  {
   "cell_type": "markdown",
   "id": "a7e4b045",
   "metadata": {},
   "source": [
    "# Проверка на равномерность распределения"
   ]
  },
  {
   "cell_type": "code",
   "execution_count": 57,
   "id": "1df76768",
   "metadata": {
    "ExecuteTime": {
     "end_time": "2023-03-10T13:28:07.652187Z",
     "start_time": "2023-03-10T13:28:07.514933Z"
    }
   },
   "outputs": [
    {
     "data": {
      "text/plain": [
       "(array([66., 46., 53., 49., 44., 48., 52., 46., 57., 39.]),\n",
       " array([0.00772274, 0.50552128, 1.00331982, 1.50111836, 1.9989169 ,\n",
       "        2.49671544, 2.99451398, 3.49231252, 3.99011106, 4.4879096 ,\n",
       "        4.98570814]),\n",
       " <BarContainer object of 10 artists>)"
      ]
     },
     "execution_count": 57,
     "metadata": {},
     "output_type": "execute_result"
    },
    {
     "data": {
      "image/png": "[encoded data removed]",
      "text/plain": [
       "<Figure size 640x480 with 1 Axes>"
      ]
     },
     "metadata": {},
     "output_type": "display_data"
    }
   ],
   "source": [
    "data_uniform = np.random.uniform(0, 5, size=500)\n",
    "plt.hist(data_uniform, color='grey')"
   ]
  },
  {
   "cell_type": "code",
   "execution_count": 58,
   "id": "2059156f",
   "metadata": {
    "ExecuteTime": {
     "end_time": "2023-03-10T13:28:51.325928Z",
     "start_time": "2023-03-10T13:28:51.318750Z"
    }
   },
   "outputs": [
    {
     "data": {
      "text/plain": [
       "KstestResult(statistic=0.776, pvalue=4.631964e-318, statistic_location=1.0179936462248889, statistic_sign=-1)"
      ]
     },
     "execution_count": 58,
     "metadata": {},
     "output_type": "execute_result"
    }
   ],
   "source": [
    "stats.kstest(data_uniform, stats.uniform(loc=0.0, scale=1.0).cdf)"
   ]
  },
  {
   "cell_type": "markdown",
   "id": "ab8989f4",
   "metadata": {},
   "source": [
    "Можно таким образом проверить равномерность распределения p-value:"
   ]
  },
  {
   "cell_type": "code",
   "execution_count": 59,
   "id": "451c82ed",
   "metadata": {
    "ExecuteTime": {
     "end_time": "2023-03-10T13:32:12.349219Z",
     "start_time": "2023-03-10T13:32:05.191261Z"
    }
   },
   "outputs": [
    {
     "name": "stdout",
     "output_type": "stream",
     "text": [
      "0.0521\n",
      "KstestResult(statistic=0.006010815921744683, pvalue=0.8606369835270394, statistic_location=0.8500891840782553, statistic_sign=1)\n"
     ]
    },
    {
     "data": {
      "image/png": "[encoded data removed]",
      "text/plain": [
       "<Figure size 640x480 with 1 Axes>"
      ]
     },
     "metadata": {},
     "output_type": "display_data"
    }
   ],
   "source": [
    "p_vals = []\n",
    "iters = 1000\n",
    "    \n",
    "for _ in range(10000):\n",
    "    a = np.random.exponential(2, size = 1000)\n",
    "    b = np.random.exponential(2, size = 100)\n",
    "    p = stats.mannwhitneyu(a, b)[1]\n",
    "    p_vals.append(p)\n",
    "        \n",
    "p_vals = np.array(p_vals)\n",
    "    \n",
    "plt.hist(p_vals, color='orange')\n",
    "    \n",
    "print(p_vals[p_vals < 0.05].shape[0] / p_vals.shape[0])\n",
    "print(stats.kstest(p_vals, stats.uniform(loc=0.0, scale=1.0).cdf))"
   ]
  },
  {
   "cell_type": "code",
   "execution_count": 60,
   "id": "b0cb2e2f",
   "metadata": {
    "ExecuteTime": {
     "end_time": "2023-03-10T13:33:57.338747Z",
     "start_time": "2023-03-10T13:33:52.967166Z"
    }
   },
   "outputs": [
    {
     "name": "stdout",
     "output_type": "stream",
     "text": [
      "0.0501\n",
      "KstestResult(statistic=0.00633388288736314, pvalue=0.8147687464154284, statistic_location=0.38143388288736313, statistic_sign=-1)\n"
     ]
    },
    {
     "data": {
      "image/png": "[encoded data removed]",
      "text/plain": [
       "<Figure size 640x480 with 1 Axes>"
      ]
     },
     "metadata": {},
     "output_type": "display_data"
    }
   ],
   "source": [
    "p_vals = []\n",
    "iters = 1000\n",
    "    \n",
    "for _ in range(10000):\n",
    "    a = np.random.normal(25, 80, size=1000)\n",
    "    b = np.random.normal(25, 2, size=100)\n",
    "    p = stats.ttest_ind(a, b, equal_var=False).pvalue\n",
    "    p_vals.append(p)\n",
    "        \n",
    "p_vals = np.array(p_vals)\n",
    "    \n",
    "plt.hist(p_vals, color='green')\n",
    "    \n",
    "print(p_vals[p_vals < 0.05].shape[0] / p_vals.shape[0])\n",
    "print(stats.kstest(p_vals, stats.uniform(loc=0.0, scale=1.0).cdf))"
   ]
  },
  {
   "cell_type": "code",
   "execution_count": null,
   "id": "e4697068",
   "metadata": {},
   "outputs": [],
   "source": []
  },
  {
   "cell_type": "markdown",
   "id": "2e6024db",
   "metadata": {
    "collapsed": true
   },
   "source": [
    "# Д3 № 1"
   ]
  },
  {
   "cell_type": "markdown",
   "id": "3874b51c",
   "metadata": {},
   "source": [
    "1. Проверить работу критериев MW, Z, T на:\n",
    "- выборках с выбросами размера 1000\n",
    "- выборках с выбросами размера 100\n",
    "\n",
    "2. Проверить выполнение ЦПТ для распределений (надо написать функцию):\n",
    "- нормального\n",
    "- биномиального\n",
    "- экспоненциального\n",
    "- гамма\n",
    "\n",
    "Проверять каждое для случая 100 и 1000 наблюдений в выборке.\n",
    "\n",
    "При необходимости можно пользоваться критериями для проверки нормальности распределения\n",
    "\n",
    "Сделать выводы\n",
    "\n",
    "3. Просимулировать самостоятельно проверку критерия:\n",
    "- сгенерировать выборку любого размера и распределения (нормальное распределение не брать!)\n",
    "- обосновать выбор критерия (или невозможность выбрать критерий)\n",
    "- посчитать мощность и корректность\n",
    "- проверить распределение p-value на равномерность"
   ]
  },
  {
   "cell_type": "code",
   "execution_count": null,
   "id": "d904cfc2",
   "metadata": {},
   "outputs": [],
   "source": []
  }
 ],
 "metadata": {
  "kernelspec": {
   "display_name": "Python 3 (ipykernel)",
   "language": "python",
   "name": "python3"
  },
  "language_info": {
   "codemirror_mode": {
    "name": "ipython",
    "version": 3
   },
   "file_extension": ".py",
   "mimetype": "text/x-python",
   "name": "python",
   "nbconvert_exporter": "python",
   "pygments_lexer": "ipython3",
   "version": "3.10.9"
  }
 },
 "nbformat": 4,
 "nbformat_minor": 5
}
